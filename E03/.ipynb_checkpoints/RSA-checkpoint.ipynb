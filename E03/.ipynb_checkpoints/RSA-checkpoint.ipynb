{
 "cells": [
  {
   "cell_type": "markdown",
   "metadata": {},
   "source": [
    "## 先算一个小素数表"
   ]
  },
  {
   "cell_type": "code",
   "execution_count": 215,
   "metadata": {},
   "outputs": [],
   "source": [
    "MAX_PRIME=100\n",
    "primes=[]\n",
    "i=2\n",
    "while i<MAX_PRIME:\n",
    "    for prime in primes:\n",
    "        if i%prime==0:\n",
    "            break\n",
    "    else:\n",
    "        primes.append(i)\n",
    "    i+=1"
   ]
  },
  {
   "cell_type": "markdown",
   "metadata": {},
   "source": [
    "## 输入参数"
   ]
  },
  {
   "cell_type": "code",
   "execution_count": 216,
   "metadata": {},
   "outputs": [],
   "source": [
    "def ext_euclid(a, b):\n",
    "     if b == 0:\n",
    "         return 1, 0, a\n",
    "     else:\n",
    "         x, y, q = ext_euclid(b, a % b) # q = gcd(a, b) = gcd(b, a%b)\n",
    "         x, y = y, (x - (a // b) * y)\n",
    "         return x, y, q"
   ]
  },
  {
   "cell_type": "code",
   "execution_count": 217,
   "metadata": {},
   "outputs": [],
   "source": [
    "def exp_mod(x,p,m):\n",
    "    y=1\n",
    "    x=x%m\n",
    "    for _ in range(p):\n",
    "        y=y*x%m\n",
    "    return y"
   ]
  },
  {
   "cell_type": "code",
   "execution_count": 218,
   "metadata": {},
   "outputs": [],
   "source": [
    "template=\"\"\"\n",
    "p={p},q={q},e={e},M={M}\n",
    "1)p={p},q={q}\n",
    "2)n=pq={p}*{q}={n}\n",
    "3)ϕ(n)=(p-1)(q-1)={phi}\n",
    "4)选择e使其与ϕ(n)互素且小于ϕ(n)，这里选择e={e}\n",
    "5)确定d使得de=1(mod {phi}),且d<{phi}\n",
    "  有扩展欧几里得定理，可得\n",
    "  {d}*{e}+{phi}*x=1(mod 20)\n",
    "  d={d}\n",
    "\n",
    "公钥PU=(e,n)=({e},{n})\n",
    "私钥PR=(d,n)=({d},{n})\n",
    "\n",
    "加密:\n",
    "C=M^e(mod n)={C}\n",
    "\n",
    "解密：\n",
    "M=C^d(mod n)={M}\n",
    "\"\"\""
   ]
  },
  {
   "cell_type": "code",
   "execution_count": 219,
   "metadata": {},
   "outputs": [
    {
     "name": "stdout",
     "output_type": "stream",
     "text": [
      "\n",
      "p=5,q=11,e=3,M=9\n",
      "1)p=5,q=11\n",
      "2)n=pq=5*11=55\n",
      "3)ϕ(n)=(p-1)(q-1)=40\n",
      "4)选择e使其与ϕ(n)互素且小于ϕ(n)，这里选择e=3\n",
      "5)确定d使得de=1(mod 40),且d<40\n",
      "  有扩展欧几里得定理，可得\n",
      "  27*3+40*x=1(mod 20)\n",
      "  d=27\n",
      "\n",
      "公钥PU=(e,n)=(3,55)\n",
      "私钥PR=(d,n)=(27,55)\n",
      "\n",
      "加密:\n",
      "C=M^e(mod n)=14\n",
      "\n",
      "解密：\n",
      "M=C^d(mod n)=9\n",
      "\n"
     ]
    }
   ],
   "source": [
    "print(template.format(**globals()))"
   ]
  },
  {
   "cell_type": "code",
   "execution_count": 220,
   "metadata": {},
   "outputs": [],
   "source": [
    "def rsa(p,q,e,M):\n",
    "    n=p*q\n",
    "    phi=(p-1)*(q-1)\n",
    "    _,d,x=ext_euclid(phi,e)\n",
    "    if d<0:\n",
    "        d=d+phi\n",
    "    C=exp_mod(M,e,n)\n",
    "    M=exp_mod(C,d,n)\n",
    "    print(template.format(**locals()))"
   ]
  },
  {
   "cell_type": "code",
   "execution_count": 221,
   "metadata": {},
   "outputs": [
    {
     "name": "stdout",
     "output_type": "stream",
     "text": [
      "\n",
      "p=5,q=11,e=3,M=9\n",
      "1)p=5,q=11\n",
      "2)n=pq=5*11=55\n",
      "3)ϕ(n)=(p-1)(q-1)=40\n",
      "4)选择e使其与ϕ(n)互素且小于ϕ(n)，这里选择e=3\n",
      "5)确定d使得de=1(mod 40),且d<40\n",
      "  有扩展欧几里得定理，可得\n",
      "  27*3+40*x=1(mod 20)\n",
      "  d=27\n",
      "\n",
      "公钥PU=(e,n)=(3,55)\n",
      "私钥PR=(d,n)=(27,55)\n",
      "\n",
      "加密:\n",
      "C=M^e(mod n)=14\n",
      "\n",
      "解密：\n",
      "M=C^d(mod n)=9\n",
      "\n"
     ]
    }
   ],
   "source": [
    "rsa(5,11,3,9)"
   ]
  },
  {
   "cell_type": "code",
   "execution_count": 222,
   "metadata": {},
   "outputs": [
    {
     "name": "stdout",
     "output_type": "stream",
     "text": [
      "\n",
      "p=7,q=11,e=17,M=8\n",
      "1)p=7,q=11\n",
      "2)n=pq=7*11=77\n",
      "3)ϕ(n)=(p-1)(q-1)=60\n",
      "4)选择e使其与ϕ(n)互素且小于ϕ(n)，这里选择e=17\n",
      "5)确定d使得de=1(mod 60),且d<60\n",
      "  有扩展欧几里得定理，可得\n",
      "  53*17+60*x=1(mod 20)\n",
      "  d=53\n",
      "\n",
      "公钥PU=(e,n)=(17,77)\n",
      "私钥PR=(d,n)=(53,77)\n",
      "\n",
      "加密:\n",
      "C=M^e(mod n)=57\n",
      "\n",
      "解密：\n",
      "M=C^d(mod n)=8\n",
      "\n"
     ]
    }
   ],
   "source": [
    "rsa(7,11,17,8)"
   ]
  },
  {
   "cell_type": "code",
   "execution_count": 223,
   "metadata": {},
   "outputs": [
    {
     "name": "stdout",
     "output_type": "stream",
     "text": [
      "\n",
      "p=11,q=13,e=11,M=7\n",
      "1)p=11,q=13\n",
      "2)n=pq=11*13=143\n",
      "3)ϕ(n)=(p-1)(q-1)=120\n",
      "4)选择e使其与ϕ(n)互素且小于ϕ(n)，这里选择e=11\n",
      "5)确定d使得de=1(mod 120),且d<120\n",
      "  有扩展欧几里得定理，可得\n",
      "  11*11+120*x=1(mod 20)\n",
      "  d=11\n",
      "\n",
      "公钥PU=(e,n)=(11,143)\n",
      "私钥PR=(d,n)=(11,143)\n",
      "\n",
      "加密:\n",
      "C=M^e(mod n)=106\n",
      "\n",
      "解密：\n",
      "M=C^d(mod n)=7\n",
      "\n"
     ]
    }
   ],
   "source": [
    "rsa(11,13,11,7)"
   ]
  },
  {
   "cell_type": "code",
   "execution_count": 224,
   "metadata": {},
   "outputs": [
    {
     "name": "stdout",
     "output_type": "stream",
     "text": [
      "\n",
      "p=17,q=31,e=7,M=2\n",
      "1)p=17,q=31\n",
      "2)n=pq=17*31=527\n",
      "3)ϕ(n)=(p-1)(q-1)=480\n",
      "4)选择e使其与ϕ(n)互素且小于ϕ(n)，这里选择e=7\n",
      "5)确定d使得de=1(mod 480),且d<480\n",
      "  有扩展欧几里得定理，可得\n",
      "  343*7+480*x=1(mod 20)\n",
      "  d=343\n",
      "\n",
      "公钥PU=(e,n)=(7,527)\n",
      "私钥PR=(d,n)=(343,527)\n",
      "\n",
      "加密:\n",
      "C=M^e(mod n)=128\n",
      "\n",
      "解密：\n",
      "M=C^d(mod n)=2\n",
      "\n"
     ]
    }
   ],
   "source": [
    "rsa(17,31,7,2)"
   ]
  }
 ],
 "metadata": {
  "kernelspec": {
   "display_name": "Python [default]",
   "language": "python",
   "name": "python3"
  },
  "language_info": {
   "codemirror_mode": {
    "name": "ipython",
    "version": 3
   },
   "file_extension": ".py",
   "mimetype": "text/x-python",
   "name": "python",
   "nbconvert_exporter": "python",
   "pygments_lexer": "ipython3",
   "version": "3.7.0"
  }
 },
 "nbformat": 4,
 "nbformat_minor": 2
}
